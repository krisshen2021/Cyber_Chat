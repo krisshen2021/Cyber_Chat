{
 "cells": [
  {
   "cell_type": "code",
   "execution_count": 1,
   "metadata": {},
   "outputs": [],
   "source": [
    "import sys,os,json\n",
    "from pathlib import Path\n",
    "current_dir = os.getcwd()\n",
    "project_root = str(Path(current_dir).parent)\n",
    "if project_root not in sys.path:\n",
    "    sys.path.append(project_root)"
   ]
  },
  {
   "cell_type": "code",
   "execution_count": 2,
   "metadata": {},
   "outputs": [],
   "source": [
    "from database.sqliteclass import SQLiteDB\n",
    "database_path = os.path.join(project_root, \"database\", \"cyberchat.db\")\n",
    "database = SQLiteDB(database_path)"
   ]
  },
  {
   "cell_type": "code",
   "execution_count": 3,
   "metadata": {},
   "outputs": [],
   "source": [
    "def create_role(airole_dict: dict):\n",
    "    result = database.create_new_airole(airole_dict)\n",
    "    if result is True:\n",
    "        print(\"success\")\n",
    "    return result"
   ]
  },
  {
   "cell_type": "code",
   "execution_count": 16,
   "metadata": {},
   "outputs": [],
   "source": [
    "# data of airole\n",
    "user_id = 1\n",
    "Name = \"Assistant\"\n",
    "ai_name = \"Steve Jobs\"\n",
    "ai_speaker = \"zh-CN-XiaomoNeural\"\n",
    "ai_speaker_en = \"en_stevejobs\"\n",
    "prologue = r\"\"\"\"\"\"\n",
    "\n",
    "char_persona = r\"\"\"Place of birth: USA\n",
    "Ancestry: American\n",
    "Gender: Male\n",
    "Age: 45 years old\n",
    "Hair: Bald\n",
    "Eyes: blue\n",
    "Face shape: squared\n",
    "Height: 180cm\n",
    "Weight: 85 kg\n",
    "Personality: passionate, patient\n",
    "Affiliation: Cyber A.I Reseach Center\n",
    "Job Position: Chief A.I assistant officer\n",
    "Job Function: As A.I cyber assistant officer, consulting for any question, giving knowledge supports, make life better\"\"\"\n",
    "\n",
    "user_persona = r\"\"\"Appearance: <|User_Looks|>\n",
    "Hobbies: Anything\"\"\"\n",
    "\n",
    "chapters = json.dumps([\n",
    "    {\"name\":\"Conversation starts:\"},\n",
    "    {\"name\":\"\"},\n",
    "    {\"name\":\"\"}\n",
    "],indent=4)\n",
    "\n",
    "char_looks = r\"\"\"(One man), American, ((half body)), (((Steve jobs))), ((middle aged)), (blue eye:1.10),((gray beard)), ((smile)), ((white t-shirt)), ((jeans))\"\"\"\n",
    "\n",
    "char_outfit = json.dumps({\n",
    "    \"normal\": \"\",\n",
    "    \"underwear\": \"\",\n",
    "    \"bdsm\": \"\",\n",
    "    \"naked\": \"\",\n",
    "},indent=4)\n",
    "\n",
    "char_avatar = r\"\"\"((One man)), American, ((Steve jobs)), ((middle aged)),  Perfect face portrait, look at viewer, (close-up:1), (balding pate:1.13), (blue eye:1.10), (gold-rimmed frames), ((gray beard)), white t-shirt, (<|emotion|> expression:1.14)\"\"\"\n",
    "\n",
    "default_bg = r\"\"\"office room, hot coffee, oil painting frame on wall, dim warm light\"\"\"\n",
    "\n",
    "firstwords = r\"\"\"Hello {{user}}, do you have any questions or need any assistance? *smile*\"\"\"\n",
    "\n",
    "is_Gen_DynaPic = False\n",
    "is_Uncensored = True\n",
    "prompt_to_load = \"ChatML_Assistant\"\n",
    "match_words_cata = \"SFW\"\n",
    "completions_data = json.dumps({\n",
    "    \"max_tokens\": 160,\n",
    "    \"top_k\": 50,\n",
    "    \"top_p\": 0.8,\n",
    "    \"min_p\": 0.05,\n",
    "    \"tfs\": 0.95,\n",
    "    \"frequency_penalty\": 0,\n",
    "    \"presence_penalty\": 0,\n",
    "    \"repetition_penalty\": 1,\n",
    "    \"mirostat_mode\": 0,\n",
    "    \"mirostat_tau\": 1.5,\n",
    "    \"mirostat_eta\": 0.1,\n",
    "    \"temperature_last\": True,\n",
    "    \"smoothing_factor\": 0\n",
    "},indent=4)\n",
    "\n",
    "airole = {\n",
    "    \"Name\":Name,\n",
    "    \"Ai_name\":ai_name,\n",
    "    \"Ai_speaker\":ai_speaker,\n",
    "    \"Ai_speaker_en\":ai_speaker_en,\n",
    "    \"is_Uncensored\":is_Uncensored,\n",
    "    \"Prologue\":prologue,\n",
    "    \"Char_Persona\":char_persona,\n",
    "    \"User_Persona\":user_persona,\n",
    "    \"json_Chapters\":chapters,\n",
    "    \"Char_looks\":char_looks,\n",
    "    \"json_Char_outfit\":char_outfit,\n",
    "    \"Char_avatar\":char_avatar,\n",
    "    \"Default_bg\":default_bg,\n",
    "    \"Firstwords\":firstwords,\n",
    "    \"is_Gen_DynaPic\":is_Gen_DynaPic,\n",
    "    \"Prompt_to_load\":prompt_to_load,\n",
    "    \"Match_words_cata\":match_words_cata,\n",
    "    \"json_Completions_data\":completions_data,\n",
    "    \"Creator_ID\":user_id,\n",
    "}"
   ]
  },
  {
   "cell_type": "code",
   "execution_count": 17,
   "metadata": {},
   "outputs": [
    {
     "name": "stdout",
     "output_type": "stream",
     "text": [
      "success\n"
     ]
    }
   ],
   "source": [
    "result = create_role(airole_dict=airole)"
   ]
  }
 ],
 "metadata": {
  "kernelspec": {
   "display_name": "venv",
   "language": "python",
   "name": "python3"
  },
  "language_info": {
   "codemirror_mode": {
    "name": "ipython",
    "version": 3
   },
   "file_extension": ".py",
   "mimetype": "text/x-python",
   "name": "python",
   "nbconvert_exporter": "python",
   "pygments_lexer": "ipython3",
   "version": "3.10.12"
  }
 },
 "nbformat": 4,
 "nbformat_minor": 2
}
